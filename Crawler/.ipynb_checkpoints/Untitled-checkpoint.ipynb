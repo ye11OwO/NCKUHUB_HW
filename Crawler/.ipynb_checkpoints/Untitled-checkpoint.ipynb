{
 "cells": [
  {
   "cell_type": "code",
   "execution_count": 7,
   "metadata": {},
   "outputs": [
    {
     "name": "stdout",
     "output_type": "stream",
     "text": [
      "             method   %\n",
      "0      平時測驗 Quizzes  60\n",
      "1    作業 Assignments  20\n",
      "2  其他 others:體驗課程報告  20\n"
     ]
    }
   ],
   "source": [
    "import requests\n",
    "import pandas as pd\n",
    "from bs4 import BeautifulSoup\n",
    "\n",
    "res = requests.get(\"http://class-qry.acad.ncku.edu.tw/syllabus/online_display.php?syear=0107&sem=2&co_no=A92D000&class_code=\")\n",
    "res.encoding = 'big5'\n",
    "soup = BeautifulSoup(res.text, 'html.parser')\n",
    "\n",
    "a_tags = soup.find_all('td')\n",
    "\n",
    "cont_list=[{\"method\":a_tags[0].string,\"%\":a_tags[1].string},{\"method\":a_tags[2].string,\"%\":a_tags[3].string},{\"method\":a_tags[4].string,\"%\":a_tags[5].string}]\n",
    "csv.encoding = 'big5'\n",
    "df=pd.DataFrame(cont_list, columns=[\"method\",\"%\"])\n",
    "print(df)\n",
    "df.to_csv(\"./course.csv\",index=False)\n",
    "\n",
    "# for tag in (a_tags[0],a_tags[1],a_tags[2],a_tags[3],a_tags[4],a_tags[5]):\n",
    "#   # 輸出超連結的文字\n",
    "#   print(tag.string)"
   ]
  },
  {
   "cell_type": "code",
   "execution_count": null,
   "metadata": {},
   "outputs": [],
   "source": []
  }
 ],
 "metadata": {
  "kernelspec": {
   "display_name": "Python 3",
   "language": "python",
   "name": "python3"
  },
  "language_info": {
   "codemirror_mode": {
    "name": "ipython",
    "version": 3
   },
   "file_extension": ".py",
   "mimetype": "text/x-python",
   "name": "python",
   "nbconvert_exporter": "python",
   "pygments_lexer": "ipython3",
   "version": "3.7.3"
  }
 },
 "nbformat": 4,
 "nbformat_minor": 2
}
